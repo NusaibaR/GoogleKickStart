{
 "cells": [
  {
   "cell_type": "code",
   "execution_count": 1,
   "metadata": {},
   "outputs": [
    {
     "name": "stdout",
     "output_type": "stream",
     "text": [
      "1\n",
      "4 100\n",
      "20 90 40 90\n",
      "Case #1: 2\n"
     ]
    }
   ],
   "source": [
    "class Case:\n",
    "    def __init__(self,numHouses,budget,A_list):\n",
    "        self.numHouses= numHouses\n",
    "        self.budget = budget\n",
    "        self.A_list = A_list\n",
    "        self.maxHouses = 0\n",
    "        \n",
    "    def find_maxHouses(self):\n",
    "        self.A_list.sort()\n",
    "        curr_budget = self.budget\n",
    "        for Ai in self.A_list:\n",
    "            if Ai <= curr_budget:\n",
    "                curr_budget -= Ai\n",
    "                self.maxHouses +=1\n",
    "            if curr_budget <=0:\n",
    "                break\n",
    "    \n",
    "        return self.maxHouses\n",
    "\n",
    "\n",
    "\n",
    "T = int(input()) # num of cases\n",
    "for i in range(1,T+1):\n",
    "    N, B = [int(a) for a in input().split()]\n",
    "    A_list = [int(a) for a in input().split()]\n",
    "    case = Case(N,B,A_list)\n",
    "    print(\"Case #{}: {}\".format(i,case.find_maxHouses()))"
   ]
  },
  {
   "cell_type": "code",
   "execution_count": null,
   "metadata": {},
   "outputs": [],
   "source": []
  }
 ],
 "metadata": {
  "kernelspec": {
   "display_name": "Python 3",
   "language": "python",
   "name": "python3"
  },
  "language_info": {
   "codemirror_mode": {
    "name": "ipython",
    "version": 3
   },
   "file_extension": ".py",
   "mimetype": "text/x-python",
   "name": "python",
   "nbconvert_exporter": "python",
   "pygments_lexer": "ipython3",
   "version": "3.6.8"
  }
 },
 "nbformat": 4,
 "nbformat_minor": 2
}
