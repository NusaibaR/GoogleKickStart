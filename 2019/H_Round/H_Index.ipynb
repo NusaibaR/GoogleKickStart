{
 "cells": [
  {
   "cell_type": "code",
   "execution_count": 1,
   "metadata": {},
   "outputs": [
    {
     "name": "stdout",
     "output_type": "stream",
     "text": [
      "1\n",
      "3\n",
      "5 1 2\n",
      "Case #1:  1 1 2\n"
     ]
    }
   ],
   "source": [
    "\n",
    "class Case:\n",
    "    def __init__(self,numPapers,citations_list):\n",
    "        self.numPapers= numPapers\n",
    "        self.citations_list = citations_list\n",
    "        \n",
    "    def find_Hscore(self):\n",
    "         dp = [0]*(self.numPapers+1)\n",
    "         h = 0\n",
    "         new_citation = 0\n",
    "         h_score = \"\"\n",
    "         for c in self.citations_list:\n",
    "             if c > h:\n",
    "                 if c <self.numPapers :\n",
    "                     dp[c] += 1\n",
    "                 else:\n",
    "                     dp[self.numPapers] += 1\n",
    "                     \n",
    "                 if new_citation == dp[h]:\n",
    "                     h +=1\n",
    "                     new_citation = 0\n",
    "                 else: \n",
    "                     new_citation +=1\n",
    "                     \n",
    "             h_score += \" \" + str(h)\n",
    "         return h_score\n",
    "        \n",
    "# raeding the input        \n",
    "t = int(input())\n",
    "for i in range(1,t+1):\n",
    "    numPapers = int(input())\n",
    "    citations_list = [int(k) for k in input().split()]\n",
    "    case = Case(numPapers,citations_list)\n",
    "    print(\"Case #{}: {}\".format(i,(case.find_Hscore())))"
   ]
  },
  {
   "cell_type": "code",
   "execution_count": null,
   "metadata": {},
   "outputs": [],
   "source": []
  }
 ],
 "metadata": {
  "kernelspec": {
   "display_name": "Python 3",
   "language": "python",
   "name": "python3"
  },
  "language_info": {
   "codemirror_mode": {
    "name": "ipython",
    "version": 3
   },
   "file_extension": ".py",
   "mimetype": "text/x-python",
   "name": "python",
   "nbconvert_exporter": "python",
   "pygments_lexer": "ipython3",
   "version": "3.6.8"
  }
 },
 "nbformat": 4,
 "nbformat_minor": 2
}
